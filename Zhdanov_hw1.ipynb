{
 "cells": [
  {
   "cell_type": "markdown",
   "metadata": {},
   "source": [
    "**Общая информация**\n",
    "\n",
    "**Срок сдачи:** 18 октября 2017, 06:00 <br\\>\n",
    "**Штраф за опоздание:** -2 балла после 06:00 18 октября, -4 балла после 06:00 25 октября, -6 баллов после 06:00 1 ноября\n",
    "\n",
    "При отправлении ДЗ указывайте фамилию в названии файла\n",
    "Присылать ДЗ необходимо в виде ссылки на свой github репозиторий в slack @alkhamush\n",
    "\n",
    "Необходимо в slack создать таск в приватный чат:\n",
    "/todo Фамилия Имя ссылка на гитхаб @alkhamush\n",
    "Пример:\n",
    "/todo Ксения Стройкова https://github.com/stroykova/spheremailru/stroykova_hw1.ipynb @alkhamush\n",
    "Дополнительно нужно просто скинуть ссылку в slack в личный чат\n",
    "\n",
    "Используйте данный Ipython Notebook при оформлении домашнего задания."
   ]
  },
  {
   "cell_type": "markdown",
   "metadata": {},
   "source": [
    "###### Задание 1 (2 баллов)\n",
    "Реализовать KNN в классе MyKNeighborsClassifier (обязательное условие: точность не ниже sklearn реализации)\n",
    "Разберитесь самостоятельно, какая мера расстояния используется в KNeighborsClassifier дефолтно и реализуйте свой алгоритм именно с этой мерой. Самостоятельно разберитесь, как считается score из KNeighborsClassifier и реализуйте аналог в своём классе. Score не должен уступать значению KNN из sklearn\n",
    "\n",
    "###### Задание 2 (2 балла)\n",
    "Добиться скорости работы на fit,  predict и predict_proba сравнимой со sklearn для iris и mnist\n",
    "Для этого используем numpy\n",
    "\n",
    "###### Задание 3 (2 балла)\n",
    "Для iris найдите такой параметр n_neighbors, при котором выдаётся наилучший score. Нарисуйте график зависимости score от n_neighbors\n",
    "\n",
    "###### Задание 4 (3 балла)\n",
    "Добавить algorithm='kd_tree' в реализацию KNN (использовать KDTree из sklearn.neighbors). Значение n_neighbors нужно взять из задания 3. Добиться скорости работы на fit,  predict и predict_proba сравнимой со sklearn для iris и mnist\n",
    "Для этого используем numpy. Score не должен уступать значению KNN из sklearn\n",
    "\n",
    "###### Задание 5 (1 балла)\n",
    "Описать для чего нужны следующие библиотеки/классы/функции (список будет ниже)\n",
    "\n",
    "**Штрафные баллы:**\n",
    "\n",
    "1. Невыполнение PEP8 -1 балл\n",
    "2. Отсутствие фамилии в имени скрипта (скрипт должен называться по аналогии со stroykova_hw1.ipynb) -1 балл\n",
    "3. Все строчки должны быть выполнены. Нужно, чтобы output команды можно было увидеть уже в git'е. В противном случае -1 балл\n",
    "4. При оформлении ДЗ нужно пользоваться данным файлом в качестве шаблона. Не нужно удалять и видоизменять структуру кода и текст. В противном случае -1 балл\n"
   ]
  },
  {
   "cell_type": "code",
   "execution_count": 1,
   "metadata": {},
   "outputs": [],
   "source": [
    "import numpy as np\n",
    "import matplotlib.pyplot as plt\n",
    "\n",
    "import seaborn as sns\n",
    "from sklearn import datasets\n",
    "from sklearn.base import ClassifierMixin\n",
    "from sklearn.datasets import fetch_mldata\n",
    "from sklearn.neighbors.base import NeighborsBase, KNeighborsMixin, SupervisedIntegerMixin \n",
    "from sklearn.model_selection import train_test_split\n",
    "from sklearn.neighbors import KNeighborsClassifier\n",
    "from sklearn.neighbors import KDTree\n",
    "%load_ext pycodestyle_magic"
   ]
  },
  {
   "cell_type": "code",
   "execution_count": 2,
   "metadata": {},
   "outputs": [],
   "source": [
    "#%%pycodestyle\n",
    "\n",
    "\n",
    "class MyKNeighborsClassifier(NeighborsBase, KNeighborsMixin,\n",
    "                             SupervisedIntegerMixin, ClassifierMixin):\n",
    "\n",
    "    def __init__(self, n_neighbors, algorithm='brute'):\n",
    "        self.n_neighbors = n_neighbors\n",
    "        self.algorithm = algorithm\n",
    "\n",
    "    def fit(self, X, y):\n",
    "        self.X_train = np.array(X).astype(float)\n",
    "        self.y_train = np.array(y).astype(int)\n",
    "        self.classes = np.unique(y).astype(int)\n",
    "        self.num_of_classes = np.size(self.classes)\n",
    "        if self.algorithm == 'brute':\n",
    "            self.X_train_sqr = (self.X_train**2).sum(axis=1)\n",
    "        if self.algorithm == 'kd_tree':\n",
    "            self.tree = KDTree(X, leaf_size=30)\n",
    "\n",
    "    def predict(self, X):\n",
    "        X = np.array(X).astype(float)\n",
    "        y_predicted = np.zeros(len(X)).astype(int)\n",
    "        if self.algorithm == 'brute':\n",
    "            X_sqr = (X**2).sum(axis=1)\n",
    "            distances = -2*np.dot(X, self.X_train.T)+np.tile(\n",
    "                X_sqr, (len(self.X_train), 1)).T+np.tile(\n",
    "                self.X_train_sqr, (len(X), 1))\n",
    "            for i in range(len(X)):\n",
    "                indexes = np.argsort(distances[i, ])[:self.n_neighbors]\n",
    "                y_predicted[i] = np.argmax(np.bincount(self.y_train[indexes]))\n",
    "        if self.algorithm == 'kd_tree':\n",
    "            distances, indexes = self.tree.query(X, k=self.n_neighbors)\n",
    "            for i in range(len(X)):\n",
    "                y_predicted[i] = np.argmax(\n",
    "                    np.bincount(self.y_train[indexes[i]]))\n",
    "        return y_predicted\n",
    "\n",
    "    def predict_proba(self, X):\n",
    "        X = np.array(X).astype(float)\n",
    "        y_probs = np.zeros((len(X), self.num_of_classes))\n",
    "        if self.algorithm == 'brute':\n",
    "            X_sqr = (X**2).sum(axis=1)\n",
    "            distances = -2*np.dot(X, self.X_train.T)+np.tile(\n",
    "                X_sqr, (len(self.X_train), 1)).T+np.tile(\n",
    "                self.X_train_sqr, (len(X), 1))\n",
    "            for i in range(len(X)):\n",
    "                indexes = np.argsort(distances[i, ])[:self.n_neighbors]\n",
    "                count = np.bincount(self.y_train[indexes])\n",
    "                y_probs[i, ] = np.append(count, np.zeros(\n",
    "                    np.max(self.classes)-len(count)+1)) / self.n_neighbors\n",
    "        if self.algorithm == 'kd_tree':\n",
    "            distances, indexes = self.tree.query(X, k=self.n_neighbors)\n",
    "            for i in range(len(X)):\n",
    "                count = np.bincount(self.y_train[indexes[i]])\n",
    "                y_probs[i, ] = np.append(count, np.zeros(\n",
    "                    np.max(self.classes)-len(count)+1)) / self.n_neighbors\n",
    "        return y_probs\n",
    "\n",
    "    def score(self, X, y):\n",
    "        return np.average(y == self.predict(X))"
   ]
  },
  {
   "cell_type": "markdown",
   "metadata": {},
   "source": [
    "**IRIS**"
   ]
  },
  {
   "cell_type": "code",
   "execution_count": 3,
   "metadata": {},
   "outputs": [],
   "source": [
    "iris = datasets.load_iris()"
   ]
  },
  {
   "cell_type": "code",
   "execution_count": 4,
   "metadata": {},
   "outputs": [],
   "source": [
    "X_train, X_test, y_train, y_test = train_test_split(\n",
    "    iris.data, iris.target, test_size=0.1, stratify=iris.target)"
   ]
  },
  {
   "cell_type": "code",
   "execution_count": 5,
   "metadata": {},
   "outputs": [],
   "source": [
    "clf = KNeighborsClassifier(n_neighbors=2, algorithm='brute')\n",
    "my_clf = MyKNeighborsClassifier(n_neighbors=2, algorithm='brute')"
   ]
  },
  {
   "cell_type": "code",
   "execution_count": 6,
   "metadata": {},
   "outputs": [
    {
     "name": "stdout",
     "output_type": "stream",
     "text": [
      "Wall time: 995 µs\n"
     ]
    },
    {
     "data": {
      "text/plain": [
       "KNeighborsClassifier(algorithm='brute', leaf_size=30, metric='minkowski',\n",
       "           metric_params=None, n_jobs=1, n_neighbors=2, p=2,\n",
       "           weights='uniform')"
      ]
     },
     "execution_count": 6,
     "metadata": {},
     "output_type": "execute_result"
    }
   ],
   "source": [
    "%time clf.fit(X_train, y_train)"
   ]
  },
  {
   "cell_type": "code",
   "execution_count": 7,
   "metadata": {},
   "outputs": [
    {
     "name": "stdout",
     "output_type": "stream",
     "text": [
      "Wall time: 996 µs\n"
     ]
    }
   ],
   "source": [
    "%time my_clf.fit(X_train, y_train)"
   ]
  },
  {
   "cell_type": "code",
   "execution_count": 8,
   "metadata": {},
   "outputs": [
    {
     "name": "stdout",
     "output_type": "stream",
     "text": [
      "Wall time: 220 ms\n"
     ]
    },
    {
     "data": {
      "text/plain": [
       "array([2, 1, 2, 1, 0, 1, 0, 0, 2, 2, 1, 0, 1, 2, 0])"
      ]
     },
     "execution_count": 8,
     "metadata": {},
     "output_type": "execute_result"
    }
   ],
   "source": [
    "%time clf.predict(X_test)"
   ]
  },
  {
   "cell_type": "code",
   "execution_count": 9,
   "metadata": {},
   "outputs": [
    {
     "name": "stdout",
     "output_type": "stream",
     "text": [
      "Wall time: 997 µs\n"
     ]
    },
    {
     "data": {
      "text/plain": [
       "array([2, 1, 2, 1, 0, 1, 0, 0, 2, 2, 1, 0, 1, 2, 0])"
      ]
     },
     "execution_count": 9,
     "metadata": {},
     "output_type": "execute_result"
    }
   ],
   "source": [
    "%time my_clf.predict(X_test)"
   ]
  },
  {
   "cell_type": "code",
   "execution_count": 10,
   "metadata": {},
   "outputs": [
    {
     "name": "stdout",
     "output_type": "stream",
     "text": [
      "Wall time: 2 ms\n"
     ]
    },
    {
     "data": {
      "text/plain": [
       "array([[0., 0., 1.],\n",
       "       [0., 1., 0.],\n",
       "       [0., 0., 1.],\n",
       "       [0., 1., 0.],\n",
       "       [1., 0., 0.],\n",
       "       [0., 1., 0.],\n",
       "       [1., 0., 0.],\n",
       "       [1., 0., 0.],\n",
       "       [0., 0., 1.],\n",
       "       [0., 0., 1.],\n",
       "       [0., 1., 0.],\n",
       "       [1., 0., 0.],\n",
       "       [0., 1., 0.],\n",
       "       [0., 0., 1.],\n",
       "       [1., 0., 0.]])"
      ]
     },
     "execution_count": 10,
     "metadata": {},
     "output_type": "execute_result"
    }
   ],
   "source": [
    "%time clf.predict_proba(X_test)"
   ]
  },
  {
   "cell_type": "code",
   "execution_count": 11,
   "metadata": {},
   "outputs": [
    {
     "name": "stdout",
     "output_type": "stream",
     "text": [
      "Wall time: 1.99 ms\n"
     ]
    },
    {
     "data": {
      "text/plain": [
       "array([[0., 0., 1.],\n",
       "       [0., 1., 0.],\n",
       "       [0., 0., 1.],\n",
       "       [0., 1., 0.],\n",
       "       [1., 0., 0.],\n",
       "       [0., 1., 0.],\n",
       "       [1., 0., 0.],\n",
       "       [1., 0., 0.],\n",
       "       [0., 0., 1.],\n",
       "       [0., 0., 1.],\n",
       "       [0., 1., 0.],\n",
       "       [1., 0., 0.],\n",
       "       [0., 1., 0.],\n",
       "       [0., 0., 1.],\n",
       "       [1., 0., 0.]])"
      ]
     },
     "execution_count": 11,
     "metadata": {},
     "output_type": "execute_result"
    }
   ],
   "source": [
    "%time my_clf.predict_proba(X_test)"
   ]
  },
  {
   "cell_type": "code",
   "execution_count": 12,
   "metadata": {},
   "outputs": [
    {
     "data": {
      "text/plain": [
       "1.0"
      ]
     },
     "execution_count": 12,
     "metadata": {},
     "output_type": "execute_result"
    }
   ],
   "source": [
    "clf.score(X_test, y_test)"
   ]
  },
  {
   "cell_type": "code",
   "execution_count": 13,
   "metadata": {},
   "outputs": [
    {
     "data": {
      "text/plain": [
       "1.0"
      ]
     },
     "execution_count": 13,
     "metadata": {},
     "output_type": "execute_result"
    }
   ],
   "source": [
    "my_clf.score(X_test, y_test)"
   ]
  },
  {
   "cell_type": "markdown",
   "metadata": {},
   "source": [
    "Задание 3"
   ]
  },
  {
   "cell_type": "code",
   "execution_count": 14,
   "metadata": {},
   "outputs": [
    {
     "name": "stdout",
     "output_type": "stream",
     "text": [
      "The best num of neighbors is 14\n"
     ]
    },
    {
     "data": {
      "text/plain": [
       "[<matplotlib.lines.Line2D at 0x233e63bcc18>]"
      ]
     },
     "execution_count": 14,
     "metadata": {},
     "output_type": "execute_result"
    },
    {
     "data": {
      "image/png": "[encoded data removed]",
      "text/plain": [
       "<Figure size 432x288 with 1 Axes>"
      ]
     },
     "metadata": {},
     "output_type": "display_data"
    }
   ],
   "source": [
    "score = np.zeros(30)\n",
    "\n",
    "for i in range(30):\n",
    "    my_clf = MyKNeighborsClassifier(n_neighbors=i+1)\n",
    "    for j in range(100):\n",
    "        X_train, X_test, y_train, y_test = train_test_split(\n",
    "            iris.data, iris.target,\n",
    "            test_size=0.1, stratify=iris.target)\n",
    "        my_clf.fit(X_train, y_train)\n",
    "        score[i] = score[i] + my_clf.score(X_test, y_test)/100\n",
    "print(\"The best num of neighbors is {}\".format(np.argmax(score)))\n",
    "plt.plot(range(1, 31), score)"
   ]
  },
  {
   "cell_type": "markdown",
   "metadata": {},
   "source": [
    "**MNIST**"
   ]
  },
  {
   "cell_type": "code",
   "execution_count": 15,
   "metadata": {},
   "outputs": [],
   "source": [
    "mnist = fetch_mldata('MNIST original')"
   ]
  },
  {
   "cell_type": "code",
   "execution_count": 16,
   "metadata": {},
   "outputs": [],
   "source": [
    "X_train, X_test, y_train, y_test = train_test_split(\n",
    "    mnist.data, mnist.target,\n",
    "    test_size=0.01, stratify=mnist.target)"
   ]
  },
  {
   "cell_type": "code",
   "execution_count": 17,
   "metadata": {},
   "outputs": [],
   "source": [
    "clf = KNeighborsClassifier(n_neighbors=2, algorithm='brute')\n",
    "my_clf = MyKNeighborsClassifier(n_neighbors=2, algorithm='brute')"
   ]
  },
  {
   "cell_type": "code",
   "execution_count": 18,
   "metadata": {},
   "outputs": [
    {
     "name": "stdout",
     "output_type": "stream",
     "text": [
      "Wall time: 8.99 ms\n"
     ]
    },
    {
     "data": {
      "text/plain": [
       "KNeighborsClassifier(algorithm='brute', leaf_size=30, metric='minkowski',\n",
       "           metric_params=None, n_jobs=1, n_neighbors=2, p=2,\n",
       "           weights='uniform')"
      ]
     },
     "execution_count": 18,
     "metadata": {},
     "output_type": "execute_result"
    }
   ],
   "source": [
    "%time clf.fit(X_train, y_train)"
   ]
  },
  {
   "cell_type": "code",
   "execution_count": 19,
   "metadata": {},
   "outputs": [
    {
     "name": "stdout",
     "output_type": "stream",
     "text": [
      "Wall time: 497 ms\n"
     ]
    }
   ],
   "source": [
    "%time my_clf.fit(X_train, y_train)"
   ]
  },
  {
   "cell_type": "code",
   "execution_count": 20,
   "metadata": {},
   "outputs": [
    {
     "name": "stdout",
     "output_type": "stream",
     "text": [
      "Wall time: 2.25 s\n"
     ]
    },
    {
     "data": {
      "text/plain": [
       "array([7., 3., 3., 1., 1., 2., 1., 3., 7., 4., 4., 1., 6., 8., 2., 3., 4.,\n",
       "       1., 7., 2., 2., 3., 5., 6., 1., 6., 5., 5., 6., 2., 7., 2., 7., 9.,\n",
       "       8., 8., 1., 5., 6., 8., 8., 1., 4., 2., 6., 3., 4., 7., 2., 7., 3.,\n",
       "       2., 8., 9., 7., 0., 4., 2., 1., 0., 4., 3., 9., 4., 4., 2., 4., 9.,\n",
       "       8., 0., 8., 6., 9., 9., 5., 0., 5., 5., 1., 6., 0., 1., 1., 3., 0.,\n",
       "       8., 3., 7., 3., 1., 6., 0., 9., 2., 0., 8., 5., 8., 1., 0., 1., 7.,\n",
       "       8., 4., 9., 4., 1., 8., 0., 7., 6., 1., 2., 8., 0., 1., 0., 5., 4.,\n",
       "       7., 3., 5., 0., 5., 5., 0., 4., 5., 2., 2., 6., 5., 3., 4., 8., 4.,\n",
       "       5., 9., 6., 6., 0., 0., 5., 0., 8., 5., 1., 8., 9., 8., 0., 9., 8.,\n",
       "       6., 9., 0., 3., 6., 8., 2., 3., 4., 5., 9., 0., 0., 9., 5., 4., 4.,\n",
       "       2., 1., 8., 6., 2., 5., 6., 0., 4., 8., 1., 6., 6., 0., 5., 8., 5.,\n",
       "       0., 9., 4., 1., 5., 1., 5., 7., 2., 4., 8., 6., 7., 3., 5., 3., 2.,\n",
       "       9., 2., 4., 9., 0., 6., 6., 7., 4., 7., 6., 7., 7., 1., 0., 1., 5.,\n",
       "       9., 8., 4., 1., 6., 9., 7., 3., 1., 9., 4., 4., 3., 7., 6., 1., 0.,\n",
       "       1., 9., 7., 8., 6., 1., 3., 3., 9., 8., 8., 8., 4., 4., 4., 1., 4.,\n",
       "       7., 1., 2., 2., 6., 0., 5., 7., 4., 1., 8., 7., 1., 3., 7., 2., 2.,\n",
       "       1., 1., 3., 8., 6., 7., 3., 8., 2., 6., 0., 1., 5., 5., 9., 4., 3.,\n",
       "       1., 4., 7., 8., 6., 6., 6., 8., 5., 4., 9., 2., 8., 1., 1., 7., 4.,\n",
       "       2., 8., 3., 3., 4., 9., 2., 6., 1., 3., 0., 8., 7., 5., 0., 4., 5.,\n",
       "       4., 6., 1., 7., 0., 2., 2., 3., 3., 3., 6., 4., 5., 5., 1., 4., 0.,\n",
       "       7., 8., 0., 1., 2., 6., 9., 8., 3., 7., 3., 1., 0., 2., 2., 1., 0.,\n",
       "       1., 7., 1., 7., 2., 3., 7., 4., 5., 1., 4., 6., 4., 8., 2., 7., 5.,\n",
       "       7., 0., 2., 2., 2., 6., 8., 2., 9., 1., 7., 2., 0., 4., 4., 3., 0.,\n",
       "       4., 3., 3., 9., 3., 9., 8., 4., 1., 6., 0., 7., 1., 6., 5., 1., 2.,\n",
       "       8., 6., 5., 8., 4., 7., 0., 5., 0., 3., 3., 7., 7., 7., 5., 9., 5.,\n",
       "       9., 6., 2., 2., 6., 0., 2., 0., 1., 1., 1., 9., 7., 4., 5., 6., 0.,\n",
       "       1., 6., 2., 9., 6., 2., 1., 5., 3., 3., 1., 9., 8., 4., 0., 2., 5.,\n",
       "       3., 6., 5., 9., 0., 5., 4., 1., 3., 2., 3., 1., 1., 7., 0., 7., 2.,\n",
       "       6., 5., 9., 4., 4., 1., 6., 8., 0., 2., 0., 0., 7., 7., 3., 9., 1.,\n",
       "       3., 7., 4., 0., 6., 3., 8., 0., 1., 2., 7., 7., 3., 0., 4., 7., 0.,\n",
       "       9., 8., 9., 6., 4., 3., 6., 6., 5., 3., 0., 0., 9., 5., 0., 7., 2.,\n",
       "       2., 9., 2., 3., 5., 0., 6., 4., 9., 7., 5., 5., 9., 5., 9., 6., 7.,\n",
       "       2., 3., 7., 7., 9., 6., 5., 4., 6., 2., 2., 7., 3., 8., 9., 1., 8.,\n",
       "       7., 8., 1., 6., 5., 7., 4., 7., 3., 3., 0., 0., 1., 2., 0., 8., 9.,\n",
       "       3., 9., 4., 3., 9., 2., 3., 9., 9., 6., 1., 0., 9., 2., 1., 1., 0.,\n",
       "       1., 9., 0., 9., 3., 4., 5., 9., 3., 9., 0., 5., 0., 4., 8., 9., 7.,\n",
       "       3., 2., 7., 2., 1., 8., 5., 7., 3., 1., 9., 3., 1., 6., 7., 1., 5.,\n",
       "       8., 0., 0., 7., 1., 8., 8., 9., 7., 6., 7., 9., 1., 2., 0., 8., 5.,\n",
       "       1., 4., 0., 1., 4., 4., 2., 9., 2., 7., 4., 7., 5., 3., 6., 9., 6.,\n",
       "       7., 7., 6., 7., 3., 6., 9., 8., 6., 7., 2., 8., 8., 3., 4., 6., 8.,\n",
       "       3., 7., 4., 5., 6., 7., 9., 2., 7., 2., 3., 2., 9., 4., 5., 1., 8.,\n",
       "       9., 3., 5.])"
      ]
     },
     "execution_count": 20,
     "metadata": {},
     "output_type": "execute_result"
    }
   ],
   "source": [
    "%time clf.predict(X_test)"
   ]
  },
  {
   "cell_type": "code",
   "execution_count": 21,
   "metadata": {},
   "outputs": [
    {
     "name": "stdout",
     "output_type": "stream",
     "text": [
      "Wall time: 7.42 s\n"
     ]
    },
    {
     "data": {
      "text/plain": [
       "array([7, 3, 3, 1, 1, 2, 1, 3, 7, 4, 4, 1, 6, 8, 2, 3, 4, 1, 7, 2, 2, 3,\n",
       "       5, 6, 1, 6, 5, 5, 6, 2, 7, 2, 7, 9, 8, 8, 1, 5, 6, 8, 8, 1, 4, 2,\n",
       "       6, 3, 4, 7, 2, 7, 3, 2, 8, 9, 7, 0, 4, 2, 1, 0, 4, 3, 9, 4, 4, 2,\n",
       "       4, 9, 8, 0, 8, 6, 9, 9, 5, 0, 5, 5, 1, 6, 0, 1, 1, 3, 0, 8, 3, 7,\n",
       "       3, 1, 6, 0, 9, 2, 0, 8, 5, 8, 1, 0, 1, 7, 8, 4, 9, 4, 1, 8, 0, 7,\n",
       "       6, 1, 2, 8, 0, 1, 0, 5, 4, 7, 3, 5, 0, 5, 5, 0, 4, 5, 2, 2, 6, 5,\n",
       "       3, 4, 8, 4, 5, 9, 6, 6, 0, 0, 5, 0, 8, 5, 1, 8, 9, 8, 0, 9, 8, 6,\n",
       "       9, 0, 3, 6, 8, 2, 3, 4, 5, 9, 0, 0, 9, 5, 4, 4, 2, 1, 8, 6, 2, 5,\n",
       "       6, 0, 4, 8, 1, 6, 6, 0, 5, 8, 5, 0, 9, 4, 1, 5, 1, 5, 7, 2, 4, 8,\n",
       "       6, 7, 3, 5, 3, 2, 9, 2, 4, 9, 0, 6, 6, 7, 4, 7, 6, 7, 7, 1, 0, 1,\n",
       "       5, 9, 8, 4, 1, 6, 9, 7, 3, 1, 9, 4, 4, 3, 7, 6, 1, 0, 1, 9, 7, 8,\n",
       "       6, 1, 3, 3, 9, 8, 8, 8, 4, 4, 4, 1, 4, 7, 1, 2, 2, 6, 0, 5, 7, 4,\n",
       "       1, 8, 7, 1, 3, 7, 2, 2, 1, 1, 3, 8, 6, 7, 3, 8, 2, 6, 0, 1, 5, 5,\n",
       "       9, 4, 3, 1, 4, 7, 8, 6, 6, 6, 8, 5, 4, 9, 2, 8, 1, 1, 7, 4, 2, 8,\n",
       "       3, 3, 4, 9, 2, 6, 1, 3, 0, 8, 7, 5, 0, 4, 5, 4, 6, 1, 7, 0, 2, 2,\n",
       "       3, 3, 3, 6, 4, 5, 5, 1, 4, 0, 7, 8, 0, 1, 2, 6, 9, 8, 3, 7, 3, 1,\n",
       "       0, 2, 2, 1, 0, 1, 7, 1, 7, 2, 3, 7, 4, 5, 1, 4, 6, 4, 8, 2, 7, 5,\n",
       "       7, 0, 2, 2, 2, 6, 8, 2, 9, 1, 7, 2, 0, 4, 4, 3, 0, 4, 3, 3, 9, 3,\n",
       "       9, 8, 4, 1, 6, 0, 7, 1, 6, 5, 1, 2, 8, 6, 5, 8, 4, 7, 0, 5, 0, 3,\n",
       "       3, 7, 7, 7, 5, 9, 5, 9, 6, 2, 2, 6, 0, 2, 0, 1, 1, 1, 9, 7, 4, 5,\n",
       "       6, 0, 1, 6, 2, 9, 6, 2, 1, 5, 3, 3, 1, 9, 8, 4, 0, 2, 5, 3, 6, 5,\n",
       "       9, 0, 5, 4, 1, 3, 2, 3, 1, 1, 7, 0, 7, 2, 6, 5, 9, 4, 4, 1, 6, 8,\n",
       "       0, 2, 0, 0, 7, 7, 3, 9, 1, 3, 7, 4, 0, 6, 3, 8, 0, 1, 2, 7, 7, 3,\n",
       "       0, 4, 7, 0, 9, 8, 9, 6, 4, 3, 6, 6, 5, 3, 0, 0, 9, 5, 0, 7, 2, 2,\n",
       "       9, 2, 3, 5, 0, 6, 4, 9, 7, 5, 5, 9, 5, 9, 6, 7, 2, 3, 7, 7, 9, 6,\n",
       "       5, 4, 6, 2, 2, 7, 3, 8, 9, 1, 8, 7, 8, 1, 6, 5, 7, 4, 7, 3, 3, 0,\n",
       "       0, 1, 2, 0, 8, 9, 3, 9, 4, 3, 9, 2, 3, 9, 9, 6, 1, 0, 9, 2, 1, 1,\n",
       "       0, 1, 9, 0, 9, 3, 4, 5, 9, 3, 9, 0, 5, 0, 4, 8, 9, 7, 3, 2, 7, 2,\n",
       "       1, 8, 5, 7, 3, 1, 9, 3, 1, 6, 7, 1, 5, 8, 0, 0, 7, 1, 8, 8, 9, 7,\n",
       "       6, 7, 9, 1, 2, 0, 8, 5, 1, 4, 0, 1, 4, 4, 2, 9, 2, 7, 4, 7, 5, 3,\n",
       "       6, 9, 6, 7, 7, 6, 7, 3, 6, 9, 8, 6, 7, 2, 8, 8, 3, 4, 6, 8, 3, 7,\n",
       "       4, 5, 6, 7, 9, 2, 7, 2, 3, 2, 9, 4, 5, 1, 8, 9, 3, 5])"
      ]
     },
     "execution_count": 21,
     "metadata": {},
     "output_type": "execute_result"
    }
   ],
   "source": [
    "%time my_clf.predict(X_test)"
   ]
  },
  {
   "cell_type": "code",
   "execution_count": 22,
   "metadata": {},
   "outputs": [
    {
     "name": "stdout",
     "output_type": "stream",
     "text": [
      "Wall time: 2.51 s\n"
     ]
    },
    {
     "data": {
      "text/plain": [
       "array([[0., 0., 0., ..., 1., 0., 0.],\n",
       "       [0., 0., 0., ..., 0., 0., 0.],\n",
       "       [0., 0., 0., ..., 0., 0., 0.],\n",
       "       ...,\n",
       "       [0., 0., 0., ..., 0., 0., 1.],\n",
       "       [0., 0., 0., ..., 0., 0., 0.],\n",
       "       [0., 0., 0., ..., 0., 0., 0.]])"
      ]
     },
     "execution_count": 22,
     "metadata": {},
     "output_type": "execute_result"
    }
   ],
   "source": [
    "%time clf.predict_proba(X_test)"
   ]
  },
  {
   "cell_type": "code",
   "execution_count": 23,
   "metadata": {},
   "outputs": [
    {
     "name": "stdout",
     "output_type": "stream",
     "text": [
      "Wall time: 7.46 s\n"
     ]
    },
    {
     "data": {
      "text/plain": [
       "array([[0., 0., 0., ..., 1., 0., 0.],\n",
       "       [0., 0., 0., ..., 0., 0., 0.],\n",
       "       [0., 0., 0., ..., 0., 0., 0.],\n",
       "       ...,\n",
       "       [0., 0., 0., ..., 0., 0., 1.],\n",
       "       [0., 0., 0., ..., 0., 0., 0.],\n",
       "       [0., 0., 0., ..., 0., 0., 0.]])"
      ]
     },
     "execution_count": 23,
     "metadata": {},
     "output_type": "execute_result"
    }
   ],
   "source": [
    "%time my_clf.predict_proba(X_test)"
   ]
  },
  {
   "cell_type": "code",
   "execution_count": 24,
   "metadata": {},
   "outputs": [
    {
     "data": {
      "text/plain": [
       "0.9728571428571429"
      ]
     },
     "execution_count": 24,
     "metadata": {},
     "output_type": "execute_result"
    }
   ],
   "source": [
    "clf.score(X_test, y_test)"
   ]
  },
  {
   "cell_type": "code",
   "execution_count": 25,
   "metadata": {},
   "outputs": [
    {
     "data": {
      "text/plain": [
       "0.9728571428571429"
      ]
     },
     "execution_count": 25,
     "metadata": {},
     "output_type": "execute_result"
    }
   ],
   "source": [
    "my_clf.score(X_test, y_test)"
   ]
  },
  {
   "cell_type": "markdown",
   "metadata": {},
   "source": [
    "Задание 4"
   ]
  },
  {
   "cell_type": "code",
   "execution_count": 26,
   "metadata": {},
   "outputs": [],
   "source": [
    "clf = KNeighborsClassifier(n_neighbors=2, algorithm='kd_tree')\n",
    "my_clf = MyKNeighborsClassifier(n_neighbors=2, algorithm='kd_tree')"
   ]
  },
  {
   "cell_type": "code",
   "execution_count": 27,
   "metadata": {},
   "outputs": [],
   "source": [
    "X_train, X_test, y_train, y_test = train_test_split(\n",
    "    mnist.data, mnist.target,\n",
    "    test_size=0.01, stratify=mnist.target)"
   ]
  },
  {
   "cell_type": "code",
   "execution_count": 28,
   "metadata": {},
   "outputs": [
    {
     "name": "stdout",
     "output_type": "stream",
     "text": [
      "Wall time: 35.2 s\n"
     ]
    },
    {
     "data": {
      "text/plain": [
       "KNeighborsClassifier(algorithm='kd_tree', leaf_size=30, metric='minkowski',\n",
       "           metric_params=None, n_jobs=1, n_neighbors=2, p=2,\n",
       "           weights='uniform')"
      ]
     },
     "execution_count": 28,
     "metadata": {},
     "output_type": "execute_result"
    }
   ],
   "source": [
    "%time clf.fit(X_train, y_train)"
   ]
  },
  {
   "cell_type": "code",
   "execution_count": 29,
   "metadata": {},
   "outputs": [
    {
     "name": "stdout",
     "output_type": "stream",
     "text": [
      "Wall time: 34.9 s\n"
     ]
    }
   ],
   "source": [
    "%time my_clf.fit(X_train, y_train)"
   ]
  },
  {
   "cell_type": "code",
   "execution_count": 30,
   "metadata": {},
   "outputs": [
    {
     "name": "stdout",
     "output_type": "stream",
     "text": [
      "Wall time: 1min 16s\n"
     ]
    },
    {
     "data": {
      "text/plain": [
       "array([5., 9., 2., 3., 0., 1., 9., 8., 1., 7., 2., 6., 5., 0., 8., 3., 3.,\n",
       "       7., 1., 3., 0., 4., 7., 4., 3., 6., 6., 8., 5., 2., 4., 1., 9., 8.,\n",
       "       3., 1., 2., 3., 5., 1., 0., 5., 3., 0., 7., 2., 4., 2., 7., 3., 1.,\n",
       "       9., 3., 9., 2., 1., 2., 6., 7., 4., 3., 6., 4., 3., 9., 4., 3., 4.,\n",
       "       8., 1., 4., 6., 4., 0., 3., 8., 7., 1., 4., 9., 5., 8., 0., 3., 2.,\n",
       "       9., 0., 2., 8., 3., 1., 4., 4., 8., 1., 7., 7., 2., 8., 1., 9., 0.,\n",
       "       6., 9., 9., 0., 3., 9., 7., 7., 7., 9., 1., 3., 1., 9., 7., 9., 3.,\n",
       "       8., 1., 4., 2., 0., 4., 3., 9., 0., 2., 7., 8., 4., 6., 0., 9., 4.,\n",
       "       8., 0., 4., 1., 8., 2., 1., 1., 2., 4., 0., 7., 8., 3., 2., 2., 3.,\n",
       "       2., 1., 6., 3., 1., 3., 8., 4., 7., 3., 6., 8., 9., 5., 9., 5., 5.,\n",
       "       3., 6., 5., 0., 1., 0., 4., 0., 7., 3., 0., 1., 5., 9., 6., 7., 7.,\n",
       "       7., 9., 1., 2., 6., 5., 1., 0., 3., 5., 4., 9., 4., 3., 2., 4., 5.,\n",
       "       2., 0., 8., 6., 7., 7., 1., 0., 2., 7., 5., 1., 7., 9., 2., 1., 6.,\n",
       "       4., 1., 6., 1., 0., 4., 0., 4., 6., 9., 1., 7., 0., 7., 2., 3., 9.,\n",
       "       7., 0., 2., 1., 0., 4., 4., 8., 4., 6., 8., 0., 6., 0., 7., 9., 5.,\n",
       "       0., 4., 1., 4., 0., 1., 1., 3., 2., 8., 7., 7., 7., 1., 7., 9., 2.,\n",
       "       1., 9., 4., 4., 2., 5., 2., 5., 4., 5., 2., 9., 0., 3., 1., 6., 9.,\n",
       "       0., 2., 3., 5., 0., 1., 2., 5., 3., 2., 3., 0., 6., 2., 2., 6., 3.,\n",
       "       2., 6., 0., 7., 9., 0., 7., 0., 0., 6., 0., 7., 2., 2., 0., 1., 6.,\n",
       "       6., 0., 4., 7., 8., 2., 9., 1., 4., 3., 9., 5., 9., 5., 3., 7., 5.,\n",
       "       2., 4., 6., 3., 6., 0., 2., 9., 9., 5., 6., 1., 4., 1., 2., 8., 4.,\n",
       "       9., 7., 6., 3., 4., 0., 9., 5., 1., 2., 7., 0., 8., 2., 7., 2., 6.,\n",
       "       3., 3., 6., 0., 3., 7., 9., 7., 9., 8., 6., 1., 4., 3., 7., 3., 7.,\n",
       "       8., 6., 7., 6., 3., 9., 4., 9., 9., 9., 0., 8., 2., 7., 2., 1., 0.,\n",
       "       5., 4., 5., 8., 8., 6., 8., 7., 7., 7., 4., 1., 0., 2., 5., 2., 6.,\n",
       "       1., 2., 4., 0., 3., 5., 5., 3., 0., 5., 8., 7., 0., 6., 7., 8., 7.,\n",
       "       7., 0., 8., 7., 2., 5., 3., 5., 5., 4., 6., 4., 0., 4., 3., 5., 3.,\n",
       "       9., 7., 4., 9., 4., 9., 5., 8., 4., 5., 2., 6., 9., 1., 1., 5., 5.,\n",
       "       6., 4., 1., 1., 0., 6., 9., 6., 1., 7., 2., 8., 3., 8., 2., 7., 7.,\n",
       "       3., 7., 8., 3., 9., 1., 8., 2., 3., 7., 6., 8., 1., 2., 1., 2., 6.,\n",
       "       9., 3., 7., 3., 1., 0., 8., 3., 8., 3., 3., 6., 8., 4., 5., 1., 5.,\n",
       "       3., 8., 6., 6., 1., 9., 8., 8., 6., 4., 4., 4., 1., 7., 8., 1., 2.,\n",
       "       3., 8., 6., 1., 6., 8., 1., 5., 3., 9., 0., 5., 5., 3., 9., 8., 2.,\n",
       "       2., 8., 2., 6., 0., 1., 4., 8., 9., 5., 5., 6., 8., 3., 8., 1., 1.,\n",
       "       9., 6., 9., 6., 4., 9., 4., 1., 3., 6., 2., 2., 4., 1., 5., 8., 7.,\n",
       "       5., 3., 5., 4., 7., 5., 0., 7., 1., 3., 6., 4., 1., 9., 7., 8., 3.,\n",
       "       0., 0., 7., 1., 8., 0., 3., 2., 7., 0., 4., 2., 1., 9., 4., 3., 3.,\n",
       "       0., 5., 7., 6., 0., 5., 5., 0., 1., 4., 0., 1., 3., 6., 5., 5., 2.,\n",
       "       3., 6., 4., 7., 5., 7., 6., 0., 7., 1., 8., 0., 5., 1., 1., 7., 3.,\n",
       "       5., 6., 6., 1., 0., 0., 4., 6., 7., 6., 5., 9., 1., 6., 4., 4., 6.,\n",
       "       6., 8., 0., 5., 6., 0., 5., 1., 8., 7., 2., 7., 9., 6., 5., 6., 9.,\n",
       "       1., 1., 9.])"
      ]
     },
     "execution_count": 30,
     "metadata": {},
     "output_type": "execute_result"
    }
   ],
   "source": [
    "%time clf.predict(X_test)"
   ]
  },
  {
   "cell_type": "code",
   "execution_count": 31,
   "metadata": {},
   "outputs": [
    {
     "name": "stdout",
     "output_type": "stream",
     "text": [
      "Wall time: 1min 16s\n"
     ]
    },
    {
     "data": {
      "text/plain": [
       "array([5, 9, 2, 3, 0, 1, 9, 8, 1, 7, 2, 6, 5, 0, 8, 3, 3, 7, 1, 3, 0, 4,\n",
       "       7, 4, 3, 6, 6, 8, 5, 2, 4, 1, 9, 8, 3, 1, 2, 3, 5, 1, 0, 5, 3, 0,\n",
       "       7, 2, 4, 2, 7, 3, 1, 9, 3, 9, 2, 1, 2, 6, 7, 4, 3, 6, 4, 3, 9, 4,\n",
       "       3, 4, 8, 1, 4, 6, 4, 0, 3, 8, 7, 1, 4, 9, 5, 8, 0, 3, 2, 9, 0, 2,\n",
       "       8, 3, 1, 4, 4, 8, 1, 7, 7, 2, 8, 1, 9, 0, 6, 9, 9, 0, 3, 9, 7, 7,\n",
       "       7, 9, 1, 3, 1, 9, 7, 9, 3, 8, 1, 4, 2, 0, 4, 3, 9, 0, 2, 7, 8, 4,\n",
       "       6, 0, 9, 4, 8, 0, 4, 1, 8, 2, 1, 1, 2, 4, 0, 7, 8, 3, 2, 2, 3, 2,\n",
       "       1, 6, 3, 1, 3, 8, 4, 7, 3, 6, 8, 9, 5, 9, 5, 5, 3, 6, 5, 0, 1, 0,\n",
       "       4, 0, 7, 3, 0, 1, 5, 9, 6, 7, 7, 7, 9, 1, 2, 6, 5, 1, 0, 3, 5, 4,\n",
       "       9, 4, 3, 2, 4, 5, 2, 0, 8, 6, 7, 7, 1, 0, 2, 7, 5, 1, 7, 9, 2, 1,\n",
       "       6, 4, 1, 6, 1, 0, 4, 0, 4, 6, 9, 1, 7, 0, 7, 2, 3, 9, 7, 0, 2, 1,\n",
       "       0, 4, 4, 8, 4, 6, 8, 0, 6, 0, 7, 9, 5, 0, 4, 1, 4, 0, 1, 1, 3, 2,\n",
       "       8, 7, 7, 7, 1, 7, 9, 2, 1, 9, 4, 4, 2, 5, 2, 5, 4, 5, 2, 9, 0, 3,\n",
       "       1, 6, 9, 0, 2, 3, 5, 0, 1, 2, 5, 3, 2, 3, 0, 6, 2, 2, 6, 3, 2, 6,\n",
       "       0, 7, 9, 0, 7, 0, 0, 6, 0, 7, 2, 2, 0, 1, 6, 6, 0, 4, 7, 8, 2, 9,\n",
       "       1, 4, 3, 9, 5, 9, 5, 3, 7, 5, 2, 4, 6, 3, 6, 0, 2, 9, 9, 5, 6, 1,\n",
       "       4, 1, 2, 8, 4, 9, 7, 6, 3, 4, 0, 9, 5, 1, 2, 7, 0, 8, 2, 7, 2, 6,\n",
       "       3, 3, 6, 0, 3, 7, 9, 7, 9, 8, 6, 1, 4, 3, 7, 3, 7, 8, 6, 7, 6, 3,\n",
       "       9, 4, 9, 9, 9, 0, 8, 2, 7, 2, 1, 0, 5, 4, 5, 8, 8, 6, 8, 7, 7, 7,\n",
       "       4, 1, 0, 2, 5, 2, 6, 1, 2, 4, 0, 3, 5, 5, 3, 0, 5, 8, 7, 0, 6, 7,\n",
       "       8, 7, 7, 0, 8, 7, 2, 5, 3, 5, 5, 4, 6, 4, 0, 4, 3, 5, 3, 9, 7, 4,\n",
       "       9, 4, 9, 5, 8, 4, 5, 2, 6, 9, 1, 1, 5, 5, 6, 4, 1, 1, 0, 6, 9, 6,\n",
       "       1, 7, 2, 8, 3, 8, 2, 7, 7, 3, 7, 8, 3, 9, 1, 8, 2, 3, 7, 6, 8, 1,\n",
       "       2, 1, 2, 6, 9, 3, 7, 3, 1, 0, 8, 3, 8, 3, 3, 6, 8, 4, 5, 1, 5, 3,\n",
       "       8, 6, 6, 1, 9, 8, 8, 6, 4, 4, 4, 1, 7, 8, 1, 2, 3, 8, 6, 1, 6, 8,\n",
       "       1, 5, 3, 9, 0, 5, 5, 3, 9, 8, 2, 2, 8, 2, 6, 0, 1, 4, 8, 9, 5, 5,\n",
       "       6, 8, 3, 8, 1, 1, 9, 6, 9, 6, 4, 9, 4, 1, 3, 6, 2, 2, 4, 1, 5, 8,\n",
       "       7, 5, 3, 5, 4, 7, 5, 0, 7, 1, 3, 6, 4, 1, 9, 7, 8, 3, 0, 0, 7, 1,\n",
       "       8, 0, 3, 2, 7, 0, 4, 2, 1, 9, 4, 3, 3, 0, 5, 7, 6, 0, 5, 5, 0, 1,\n",
       "       4, 0, 1, 3, 6, 5, 5, 2, 3, 6, 4, 7, 5, 7, 6, 0, 7, 1, 8, 0, 5, 1,\n",
       "       1, 7, 3, 5, 6, 6, 1, 0, 0, 4, 6, 7, 6, 5, 9, 1, 6, 4, 4, 6, 6, 8,\n",
       "       0, 5, 6, 0, 5, 1, 8, 7, 2, 7, 9, 6, 5, 6, 9, 1, 1, 9])"
      ]
     },
     "execution_count": 31,
     "metadata": {},
     "output_type": "execute_result"
    }
   ],
   "source": [
    "%time my_clf.predict(X_test)"
   ]
  },
  {
   "cell_type": "code",
   "execution_count": 32,
   "metadata": {},
   "outputs": [
    {
     "name": "stdout",
     "output_type": "stream",
     "text": [
      "Wall time: 1min 20s\n"
     ]
    },
    {
     "data": {
      "text/plain": [
       "array([[0., 0., 0., ..., 0., 0., 0.],\n",
       "       [0., 0., 0., ..., 0., 0., 1.],\n",
       "       [0., 0., 1., ..., 0., 0., 0.],\n",
       "       ...,\n",
       "       [0., 1., 0., ..., 0., 0., 0.],\n",
       "       [0., 1., 0., ..., 0., 0., 0.],\n",
       "       [0., 0., 0., ..., 0., 0., 1.]])"
      ]
     },
     "execution_count": 32,
     "metadata": {},
     "output_type": "execute_result"
    }
   ],
   "source": [
    "%time clf.predict_proba(X_test)"
   ]
  },
  {
   "cell_type": "code",
   "execution_count": 33,
   "metadata": {},
   "outputs": [
    {
     "name": "stdout",
     "output_type": "stream",
     "text": [
      "Wall time: 1min 18s\n"
     ]
    },
    {
     "data": {
      "text/plain": [
       "array([[0., 0., 0., ..., 0., 0., 0.],\n",
       "       [0., 0., 0., ..., 0., 0., 1.],\n",
       "       [0., 0., 1., ..., 0., 0., 0.],\n",
       "       ...,\n",
       "       [0., 1., 0., ..., 0., 0., 0.],\n",
       "       [0., 1., 0., ..., 0., 0., 0.],\n",
       "       [0., 0., 0., ..., 0., 0., 1.]])"
      ]
     },
     "execution_count": 33,
     "metadata": {},
     "output_type": "execute_result"
    }
   ],
   "source": [
    "%time my_clf.predict_proba(X_test)"
   ]
  },
  {
   "cell_type": "code",
   "execution_count": 34,
   "metadata": {},
   "outputs": [
    {
     "data": {
      "text/plain": [
       "0.9642857142857143"
      ]
     },
     "execution_count": 34,
     "metadata": {},
     "output_type": "execute_result"
    }
   ],
   "source": [
    "clf.score(X_test, y_test)"
   ]
  },
  {
   "cell_type": "code",
   "execution_count": 35,
   "metadata": {},
   "outputs": [
    {
     "data": {
      "text/plain": [
       "0.9642857142857143"
      ]
     },
     "execution_count": 35,
     "metadata": {},
     "output_type": "execute_result"
    }
   ],
   "source": [
    "my_clf.score(X_test, y_test)"
   ]
  },
  {
   "cell_type": "markdown",
   "metadata": {},
   "source": [
    "Задание 5"
   ]
  },
  {
   "cell_type": "code",
   "execution_count": 36,
   "metadata": {},
   "outputs": [],
   "source": [
    "# seaborn - библиотека визуализации данных. Использует matplotlib\n",
    "\n",
    "# matplotlib - библиотека построения графиков\n",
    "\n",
    "# train_test_split - разбиение выборки на тренировочную и тестовую\n",
    "\n",
    "# Pipelin%load_ext e (from sklearn.pipeline import Pipeline) - последовательное преобразование данных\n",
    "\n",
    "# StandardScaler (from sklearn.preprocessing import StandardScaler) - стандартизация данных\n",
    "\n",
    "# ClassifierMixin - базовый класс всех классификаторов\n",
    "\n",
    "# NeighborsBase - базовый класс knn модели\n",
    "\n",
    "# KNeighborsMixin - класс. Содержит поиск соседей для knn\n",
    "\n",
    "# SupervisedIntegerMixin - класс. Содержит метод fit\n"
   ]
  }
 ],
 "metadata": {
  "kernelspec": {
   "display_name": "Python 3",
   "language": "python",
   "name": "python3"
  },
  "language_info": {
   "codemirror_mode": {
    "name": "ipython",
    "version": 3
   },
   "file_extension": ".py",
   "mimetype": "text/x-python",
   "name": "python",
   "nbconvert_exporter": "python",
   "pygments_lexer": "ipython3",
   "version": "3.6.5"
  }
 },
 "nbformat": 4,
 "nbformat_minor": 2
}
